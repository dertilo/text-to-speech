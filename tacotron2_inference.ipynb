{
 "cells": [
  {
   "cell_type": "code",
   "execution_count": null,
   "metadata": {
    "collapsed": true
   },
   "outputs": [],
   "source": [
    "import torch\n",
    "import numpy as np\n",
    "from scipy.io.wavfile import write\n",
    "\n",
    "cuda_is_available = torch.cuda.is_available()\n",
    "DEVICE = torch.device(\"cuda\") if cuda_is_available else torch.device(\"cpu\")\n",
    "\n",
    "def load_waveglow():\n",
    "    waveglow = torch.hub.load(\"nvidia/DeepLearningExamples:torchhub\", \"nvidia_waveglow\")\n",
    "    waveglow = waveglow.remove_weightnorm(waveglow)\n",
    "    waveglow = waveglow.to(DEVICE)\n",
    "    waveglow.eval()\n",
    "    return waveglow\n",
    "\n",
    "\n",
    "def load_tacotron2():\n",
    "    tacotron2 = torch.hub.load(\n",
    "        \"nvidia/DeepLearningExamples:torchhub\", \"nvidia_tacotron2\",\n",
    "     map_location=DEVICE\n",
    "    )\n",
    "    tacotron2 = tacotron2.to(DEVICE)\n",
    "    tacotron2.eval()\n",
    "    return tacotron2\n",
    "\n",
    "tacotron2 = load_tacotron2()\n",
    "waveglow = load_waveglow()"
   ]
  },
  {
   "cell_type": "code",
   "execution_count": null,
   "metadata": {
    "collapsed": true
   },
   "outputs": [],
   "source": [
    "text = \"hello world, I missed you\"\n",
    "\n",
    "# preprocessing\n",
    "sequence = np.array(tacotron2.text_to_sequence(text, [\"english_cleaners\"]))[None, :]\n",
    "sequence = torch.from_numpy(sequence).to(device=DEVICE, dtype=torch.int64)\n",
    "\n",
    "# run the models\n",
    "with torch.no_grad():\n",
    "    _, mel, _, _ = tacotron2.infer(sequence)\n",
    "    audio = waveglow.infer(mel)\n",
    "audio_numpy = audio[0].data.cpu().numpy()\n",
    "rate = 22050\n",
    "\n",
    "write(\"audio.wav\", rate, audio_numpy)\n",
    "\n",
    "# from IPython.display import Audio\n",
    "# Audio(audio_numpy, rate=rate)\n"
   ]
  }
 ],
 "metadata": {
  "kernelspec": {
   "display_name": "Python 2",
   "language": "python",
   "name": "python2"
  },
  "language_info": {
   "codemirror_mode": {
    "name": "ipython",
    "version": 2
   },
   "file_extension": ".py",
   "mimetype": "text/x-python",
   "name": "python",
   "nbconvert_exporter": "python",
   "pygments_lexer": "ipython2",
   "version": "2.7.6"
  }
 },
 "nbformat": 4,
 "nbformat_minor": 0
}
